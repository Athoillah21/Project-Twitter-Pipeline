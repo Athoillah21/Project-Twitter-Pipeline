{
 "cells": [
  {
   "cell_type": "code",
   "execution_count": 1,
   "id": "9044fffb-24d8-4aed-83ba-9b72543237c1",
   "metadata": {
    "canvas": {
     "comments": [],
     "componentType": "CodeCell",
     "copiedOriginId": null,
     "diskcache": true,
     "headerColor": "inherit",
     "id": "27f5cdd6-1d37-4e4b-871c-5e1caacba0f7",
     "isComponent": true,
     "name": "Import Module",
     "parents": []
    },
    "tags": []
   },
   "outputs": [],
   "source": [
    "import tweepy\n",
    "import re\n",
    "import numpy as np\n",
    "import pandas as pd\n",
    "from datetime import datetime\n",
    "from textblob import TextBlob\n",
    "import os\n",
    "from better_profanity import profanity"
   ]
  },
  {
   "cell_type": "code",
   "execution_count": 2,
   "id": "965d7a82-c729-4f11-b02d-c200cc77acfb",
   "metadata": {
    "canvas": {
     "comments": [],
     "componentType": "CodeCell",
     "copiedOriginId": null,
     "diskcache": true,
     "headerColor": "inherit",
     "id": "9c5a5241-32f8-41a9-b22a-6d9ecaa2c0c8",
     "isComponent": true,
     "name": "Define Twitter API",
     "parents": [
      {
       "id": "27f5cdd6-1d37-4e4b-871c-5e1caacba0f7",
       "name": "Import Module"
      }
     ]
    },
    "tags": []
   },
   "outputs": [],
   "source": [
    "api_key             = 'J7dKwJ6tNZQGFvcBqDbL2kBjA'\n",
    "api_secret_key      = 'Sq09CRB0dEhQltAuiW0uquZgf11axzJIvLH58OzgG3IMDp4bfP'\n",
    "\n",
    "access_token        = '1351578684285587457-fvnftTGTj6SrCgmrV88FiaTkKvepg7'\n",
    "access_token_secret = 'XR7fKqZMbfqImlEAwtIP9VjlPOcgUDRzHIzmDqBiqetx5'"
   ]
  },
  {
   "cell_type": "code",
   "execution_count": 5,
   "id": "877606a4-1ba2-4945-b848-bb509ab84e90",
   "metadata": {
    "canvas": {
     "comments": [],
     "componentType": "CodeCell",
     "copiedOriginId": null,
     "diskcache": true,
     "headerColor": "inherit",
     "id": "3edc7cd1-d5d3-4822-8061-8d4b8e8aceb2",
     "isComponent": true,
     "name": "Authentication and Get Tweet",
     "parents": [
      {
       "id": "9c5a5241-32f8-41a9-b22a-6d9ecaa2c0c8",
       "name": "Define Twitter API"
      }
     ]
    },
    "tags": []
   },
   "outputs": [],
   "source": [
    "auth = tweepy.OAuthHandler(api_key, api_secret_key)\n",
    "auth.set_access_token(access_token, access_token_secret)\n",
    "\n",
    "api = tweepy.API(auth)\n",
    "\n",
    "tweets = api.user_timeline(screen_name='@elonmusk',\n",
    "                            count=1000,\n",
    "                            include_rts = False,\n",
    "                            tweet_mode = 'extended')"
   ]
  },
  {
   "cell_type": "code",
   "execution_count": 7,
   "id": "acbcfcb3-43d3-4e14-802c-06d21df586d5",
   "metadata": {
    "canvas": {
     "comments": [],
     "componentType": "CodeCell",
     "copiedOriginId": null,
     "diskcache": false,
     "headerColor": "#FF004F",
     "id": "ddc6abfe-89a0-42d3-9e9f-4ceb45895c27",
     "isComponent": true,
     "name": "Define Parameter",
     "parents": [
      {
       "id": "3edc7cd1-d5d3-4822-8061-8d4b8e8aceb2",
       "name": "Authentication and Get Tweet"
      }
     ]
    },
    "tags": []
   },
   "outputs": [],
   "source": [
    "tweet_list      = []\n",
    "for tweet in tweets:\n",
    "\n",
    "    if 'retweeted_status' in tweet._json:\n",
    "                    full_text = tweet._json['retweeted_status']['full_text']\n",
    "    else:\n",
    "                    full_text = tweet.full_text\n",
    "\n",
    "    refined_tweet = {\"user\" : tweet.user.screen_name,\n",
    "                    'text' : full_text,\n",
    "                    'favorite_count' : tweet.favorite_count,\n",
    "                    'retweet_count' : tweet.retweet_count,\n",
    "                    'created_at' : str(tweet.created_at.date())}\n",
    "    \n",
    "    tweet_list.append(refined_tweet)\n",
    "\n",
    "\n",
    "df = pd.DataFrame(tweet_list)"
   ]
  },
  {
   "cell_type": "code",
   "execution_count": 9,
   "id": "e9d7711d-7e92-48e5-bf82-96b6cb764d82",
   "metadata": {
    "canvas": {
     "comments": [],
     "componentType": "CodeCell",
     "copiedOriginId": null,
     "diskcache": false,
     "headerColor": "#6C00FF",
     "id": "1a8d2d40-7b09-41b1-9959-f102dea7c898",
     "isComponent": true,
     "name": "Cleansing Tweet",
     "parents": [
      {
       "id": "ddc6abfe-89a0-42d3-9e9f-4ceb45895c27",
       "name": "Define Parameter"
      },
      {
       "id": "ef0dc6fa-3d3b-4624-b064-ee44a0325734",
       "name": "Param and Sentiment Analysis"
      }
     ]
    },
    "tags": []
   },
   "outputs": [],
   "source": [
    "cl = []\n",
    "cl2 = []\n",
    "\n",
    "def clean_tweet(tweet):\n",
    "    if type(tweet) == np.float:\n",
    "        return \"\"\n",
    "    r = tweet.lower()\n",
    "    r = profanity.censor(r)\n",
    "    r = re.sub(\"'\", \"\", r) # This is to avoid removing contractions in english\n",
    "    r = re.sub(\"@[A-Za-z0-9_]+\",\"\", r)\n",
    "    r = re.sub(\"#[A-Za-z0-9_]+\",\"\", r)\n",
    "    r = re.sub(r'http\\S+', '', r)\n",
    "    r = re.sub('[()!?]', ' ', r)\n",
    "    r = re.sub('\\[.*?\\]',' ', r)\n",
    "    r = re.sub(\"[^a-z0-9]\",\" \", r)\n",
    "    r = r.split()\n",
    "    stopwords = [\"for\", \"on\", \"an\", \"a\", \"of\", \"and\", \"in\", \"the\", \"to\", \"from\"]\n",
    "    r = [w for w in r if not w in stopwords]\n",
    "    r = \" \".join(word for word in r)\n",
    "    return r\n",
    "\n",
    "cleaned = [clean_tweet(tw) for tw in df['text']]\n",
    "cleaned2 = [clean_tweet(tw) for tw in dfbaru['text']]\n",
    "\n",
    "df2 = pd.DataFrame(cleaned)\n",
    "df2.columns = ['cleaned_tweet']\n",
    "df['cleaned_tweet']=df2\n",
    "\n",
    "dfbaru2 = pd.DataFrame(cleaned)\n",
    "dfbaru2.columns = ['cleaned_tweet']\n",
    "dfbaru['cleaned_tweet']=dfbaru2"
   ]
  },
  {
   "cell_type": "code",
   "execution_count": 10,
   "id": "d9b5073f-71f0-4f19-8819-9d9dda942fa0",
   "metadata": {
    "canvas": {
     "comments": [],
     "componentType": "CodeCell",
     "copiedOriginId": null,
     "diskcache": false,
     "headerColor": "#FF004F",
     "id": "c6755140-d0b5-4dd5-9158-590c7d389cd6",
     "isComponent": true,
     "name": "Sentiment Analysis",
     "parents": [
      {
       "id": "1a8d2d40-7b09-41b1-9959-f102dea7c898",
       "name": "Cleansing Tweet"
      }
     ]
    },
    "tags": []
   },
   "outputs": [],
   "source": [
    "sentiment_objects = [TextBlob(tweet) for tweet in cleaned]\n",
    "sentiment_values = [tweet.sentiment.polarity for tweet in sentiment_objects]\n",
    "subjectivity_values = [tweet.sentiment.subjectivity for tweet in sentiment_objects]\n",
    "\n",
    "df3 = pd.DataFrame(sentiment_values)\n",
    "df3.columns = ['polarity']\n",
    "df['polarity']=df3\n",
    "\n",
    "df4 = pd.DataFrame(subjectivity_values)\n",
    "df4.columns = ['subjectivity']\n",
    "df['subjectivity']=df4"
   ]
  },
  {
   "cell_type": "code",
   "execution_count": 8,
   "id": "37531d4b-dd7c-402e-ab0a-177be3ada2eb",
   "metadata": {
    "canvas": {
     "comments": [],
     "componentType": "CodeCell",
     "copiedOriginId": null,
     "diskcache": false,
     "headerColor": "#0093FF",
     "id": "ef0dc6fa-3d3b-4624-b064-ee44a0325734",
     "isComponent": true,
     "name": "Param and Sentiment Analysis",
     "parents": [
      {
       "id": "3edc7cd1-d5d3-4822-8061-8d4b8e8aceb2",
       "name": "Authentication and Get Tweet"
      }
     ]
    },
    "tags": []
   },
   "outputs": [],
   "source": [
    "tweet_list_2      = []\n",
    "all_polarity    = 0\n",
    "for tweet in tweets:\n",
    "\n",
    "    if 'retweeted_status' in tweet._json:\n",
    "                    full_text = tweet._json['retweeted_status']['full_text']\n",
    "    else:\n",
    "                    full_text = tweet.full_text\n",
    "\n",
    "    an = TextBlob(full_text)\n",
    "    all_polarity += an.polarity\n",
    "\n",
    "    refined_tweet_2 = {\"user\" : tweet.user.screen_name,\n",
    "                    'text' : full_text,\n",
    "                    'favorite_count' : tweet.favorite_count,\n",
    "                    'retweet_count' : tweet.retweet_count,\n",
    "                    'created_at' : str(tweet.created_at.date()),\n",
    "                    'Polarity': an.polarity,\n",
    "                    'Subjectivity': an.subjectivity}\n",
    "    \n",
    "    tweet_list_2.append(refined_tweet_2)\n",
    "\n",
    "\n",
    "dfbaru = pd.DataFrame(tweet_list_2)"
   ]
  },
  {
   "cell_type": "code",
   "execution_count": 11,
   "id": "33dccf07-5ece-456b-ae52-1afca9ea4dfd",
   "metadata": {
    "canvas": {
     "comments": [],
     "componentType": "CodeCell",
     "copiedOriginId": null,
     "diskcache": true,
     "headerColor": "#FF8200",
     "id": "0dae3910-4311-4a2f-bd03-afbad3c49a2d",
     "isComponent": true,
     "name": "Define All Parameter",
     "parents": [
      {
       "id": "3edc7cd1-d5d3-4822-8061-8d4b8e8aceb2",
       "name": "Authentication and Get Tweet"
      }
     ]
    },
    "tags": []
   },
   "outputs": [],
   "source": [
    "tweet_list_3      = []\n",
    "all_polarity_3    = 0\n",
    "for tweet in tweets:\n",
    "\n",
    "    if 'retweeted_status' in tweet._json:\n",
    "                    full_text = tweet._json['retweeted_status']['full_text']\n",
    "    else:\n",
    "                    full_text = tweet.full_text\n",
    "\n",
    "    an = TextBlob(full_text)\n",
    "    all_polarity_3 += an.polarity\n",
    "\n",
    "    refined_tweet_3 = {\"user\" : tweet.user.screen_name,\n",
    "                    'text' : full_text,\n",
    "                    'id' : tweet.id_str,\n",
    "                    'entities' : tweet.entities,\n",
    "                    'favorite_count' : tweet.favorite_count,\n",
    "                    'retweet_count' : tweet.retweet_count,\n",
    "                    'created_at' : str(tweet.created_at.date()),\n",
    "                    'coordinates' : tweet.coordinates,\n",
    "                    'place' : tweet.place,\n",
    "                    'Polarity': an.polarity,\n",
    "                    'Subjectivity': an.subjectivity}\n",
    "    \n",
    "    tweet_list_3.append(refined_tweet_3)\n",
    "\n",
    "\n",
    "dftiga = pd.DataFrame(tweet_list_3)"
   ]
  },
  {
   "cell_type": "code",
   "execution_count": 13,
   "id": "729092e8-55cd-45aa-ba69-cb93e19482ed",
   "metadata": {
    "canvas": {
     "comments": [],
     "componentType": "CodeCell",
     "copiedOriginId": null,
     "diskcache": false,
     "headerColor": "#2b1748",
     "id": "652e2144-1685-4582-ae72-15d3eddc0f2d",
     "isComponent": true,
     "name": "Save csv Locally",
     "parents": [
      {
       "id": "c6755140-d0b5-4dd5-9158-590c7d389cd6",
       "name": "Sentiment Analysis"
      },
      {
       "id": "1a8d2d40-7b09-41b1-9959-f102dea7c898",
       "name": "Cleansing Tweet"
      },
      {
       "id": "0dae3910-4311-4a2f-bd03-afbad3c49a2d",
       "name": "Define All Parameter"
      }
     ]
    },
    "tags": []
   },
   "outputs": [],
   "source": [
    "df.to_csv('twitter_data_version1.csv')\n",
    "dfbaru.to_csv('twitter_data_version2.csv')\n",
    "dftiga.to_csv('twitter_data_version3.csv')"
   ]
  }
 ],
 "metadata": {
  "canvas": {
   "colorPalette": [
    "#2b1748",
    "inherit",
    "inherit",
    "inherit",
    "inherit",
    "inherit",
    "inherit",
    "inherit",
    "inherit",
    "inherit"
   ],
   "parameters": [],
   "version": "1.0"
  },
  "kernelspec": {
   "display_name": "Python 3 (ipykernel)",
   "language": "python",
   "name": "python3"
  },
  "language_info": {
   "codemirror_mode": {
    "name": "ipython",
    "version": 3
   },
   "file_extension": ".py",
   "mimetype": "text/x-python",
   "name": "python",
   "nbconvert_exporter": "python",
   "pygments_lexer": "ipython3",
   "version": "3.10.6"
  },
  "vscode": {
   "interpreter": {
    "hash": "67b508dcf881baa6471cf3fec8c37938a808096f6fcdbf94a86d455c86803f2c"
   }
  }
 },
 "nbformat": 4,
 "nbformat_minor": 5
}
