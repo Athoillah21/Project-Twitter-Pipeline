{
 "cells": [
  {
   "cell_type": "code",
   "execution_count": null,
   "id": "013331ab-93c0-41c2-a1da-cd0251d2cf52",
   "metadata": {
    "canvas": {
     "comments": [],
     "componentType": "CodeCell",
     "copiedOriginId": null,
     "diskcache": false,
     "headerColor": "inherit",
     "id": "34179f02-cc6f-4a26-86b4-b12de79f8802",
     "isComponent": false,
     "name": "",
     "parents": []
    },
    "tags": []
   },
   "outputs": [],
   "source": [
    "import tweepy\n",
    "import re\n",
    "import numpy as np\n",
    "import pandas as pd\n",
    "from datetime import datetime\n",
    "from textblob import TextBlob\n",
    "import os\n",
    "from better_profanity import profanity"
   ]
  },
  {
   "cell_type": "code",
   "execution_count": null,
   "id": "e0b0c17a-1850-4fcf-a441-521ab8219ddc",
   "metadata": {
    "canvas": {
     "comments": [],
     "componentType": "CodeCell",
     "copiedOriginId": null,
     "diskcache": false,
     "headerColor": "inherit",
     "id": "b4bcafd1-acc1-4587-bd71-3a77456a67b5",
     "isComponent": false,
     "name": "",
     "parents": []
    }
   },
   "outputs": [],
   "source": [
    "api_key             = 'J7dKwJ6tNZQGFvcBqDbL2kBjA'\n",
    "api_secret_key      = 'Sq09CRB0dEhQltAuiW0uquZgf11axzJIvLH58OzgG3IMDp4bfP'\n",
    "\n",
    "access_token        = '1351578684285587457-fvnftTGTj6SrCgmrV88FiaTkKvepg7'\n",
    "access_token_secret = 'XR7fKqZMbfqImlEAwtIP9VjlPOcgUDRzHIzmDqBiqetx5'"
   ]
  },
  {
   "cell_type": "code",
   "execution_count": null,
   "id": "5a0a7f85-fd4d-4fb9-817b-c272a7685d40",
   "metadata": {
    "canvas": {
     "comments": [],
     "componentType": "CodeCell",
     "copiedOriginId": null,
     "diskcache": false,
     "headerColor": "inherit",
     "id": "6cad94f6-0cc7-4212-8e18-11123588c752",
     "isComponent": false,
     "name": "",
     "parents": []
    }
   },
   "outputs": [],
   "source": [
    "auth = tweepy.OAuthHandler(api_key, api_secret_key)\n",
    "auth.set_access_token(access_token, access_token_secret)\n",
    "\n",
    "api = tweepy.API(auth)\n",
    "\n",
    "tweets = api.user_timeline(screen_name='@elonmusk',\n",
    "                            count=1000,\n",
    "                            include_rts = False,\n",
    "                            tweet_mode = 'extended')"
   ]
  },
  {
   "cell_type": "code",
   "execution_count": null,
   "id": "5323cea8-24f2-4bb9-8409-126bd38fa90b",
   "metadata": {
    "canvas": {
     "comments": [],
     "componentType": "CodeCell",
     "copiedOriginId": null,
     "diskcache": false,
     "headerColor": "inherit",
     "id": "9554d411-a4ec-4712-b843-8eba576f0b65",
     "isComponent": false,
     "name": "",
     "parents": []
    }
   },
   "outputs": [],
   "source": [
    "tweet_list      = []\n",
    "all_polarity    = 0\n",
    "for tweet in tweets:\n",
    "\n",
    "    if 'retweeted_status' in tweet._json:\n",
    "                    full_text = tweet._json['retweeted_status']['full_text']\n",
    "    else:\n",
    "                    full_text = tweet.full_text\n",
    "\n",
    "    an = TextBlob(full_text)\n",
    "    all_polarity += an.polarity\n",
    "\n",
    "    refined_tweet = {\"user\" : tweet.user.screen_name,\n",
    "                    'text' : full_text,\n",
    "                    'id' : tweet.id_str,\n",
    "                    'entities' : tweet.entities,\n",
    "                    'favorite_count' : tweet.favorite_count,\n",
    "                    'retweet_count' : tweet.retweet_count,\n",
    "                    'created_at' : str(tweet.created_at.date()),\n",
    "                    'coordinates' : tweet.coordinates,\n",
    "                    'place' : tweet.place,\n",
    "                    'Polarity': an.polarity,\n",
    "                    'Subjectivity': an.subjectivity}\n",
    "    \n",
    "    tweet_list.append(refined_tweet)\n",
    "\n",
    "\n",
    "df = pd.DataFrame(tweet_list)"
   ]
  },
  {
   "cell_type": "code",
   "execution_count": null,
   "id": "58dd5c75-b8bb-4fce-b3a8-c08812ebeb81",
   "metadata": {
    "canvas": {
     "comments": [],
     "componentType": "CodeCell",
     "copiedOriginId": null,
     "diskcache": false,
     "headerColor": "inherit",
     "id": "c8c61989-4b27-427d-b4bd-940ca43bec4c",
     "isComponent": false,
     "name": "",
     "parents": []
    }
   },
   "outputs": [],
   "source": [
    "def clean_tweet(tweet):\n",
    "    if type(tweet) == np.float:\n",
    "        return \"\"\n",
    "    r = tweet.lower()\n",
    "    r = profanity.censor(r)\n",
    "    r = re.sub(\"'\", \"\", r) # This is to avoid removing contractions in english\n",
    "    r = re.sub(\"@[A-Za-z0-9_]+\",\"\", r)\n",
    "    r = re.sub(\"#[A-Za-z0-9_]+\",\"\", r)\n",
    "    r = re.sub(r'http\\S+', '', r)\n",
    "    r = re.sub('[()!?]', ' ', r)\n",
    "    r = re.sub('\\[.*?\\]',' ', r)\n",
    "    r = re.sub(\"[^a-z0-9]\",\" \", r)\n",
    "    r = r.split()\n",
    "    stopwords = [\"for\", \"on\", \"an\", \"a\", \"of\", \"and\", \"in\", \"the\", \"to\", \"from\"]\n",
    "    r = [w for w in r if not w in stopwords]\n",
    "    r = \" \".join(word for word in r)\n",
    "    return r\n",
    "\n",
    "cleaned = [clean_tweet(tw) for tw in df['text']]\n",
    "df2 = pd.DataFrame(cleaned)\n",
    "df2.columns = ['cleaned_tweet']\n",
    "df['cleaned_tweet']=df2"
   ]
  },
  {
   "cell_type": "code",
   "execution_count": null,
   "id": "12e3983b-cc38-4d6f-8987-17bbc1ac7499",
   "metadata": {
    "canvas": {
     "comments": [],
     "componentType": "CodeCell",
     "copiedOriginId": null,
     "diskcache": false,
     "headerColor": "inherit",
     "id": "a84ad571-5762-42c2-8700-c5d1d1dc6157",
     "isComponent": false,
     "name": "",
     "parents": []
    }
   },
   "outputs": [],
   "source": [
    "df2.to_csv('twitter_data.csv')"
   ]
  }
 ],
 "metadata": {
  "canvas": {
   "colorPalette": [
    "inherit",
    "inherit",
    "inherit",
    "inherit",
    "inherit",
    "inherit",
    "inherit",
    "inherit",
    "inherit",
    "inherit"
   ],
   "parameters": [],
   "version": "1.0"
  },
  "kernelspec": {
   "display_name": "Python 3 (ipykernel)",
   "language": "python",
   "name": "python3"
  },
  "language_info": {
   "codemirror_mode": {
    "name": "ipython",
    "version": 3
   },
   "file_extension": ".py",
   "mimetype": "text/x-python",
   "name": "python",
   "nbconvert_exporter": "python",
   "pygments_lexer": "ipython3",
   "version": "3.10.6"
  }
 },
 "nbformat": 4,
 "nbformat_minor": 5
}
